{
 "cells": [
  {
   "cell_type": "markdown",
   "metadata": {},
   "source": [
    "# stacked_staggered_barchart.ipynb\n",
    "\n",
    "## Purpose:\n",
    "Produce a barchart that is stacked and staggered.\n",
    "\n",
    "## History:\n",
    "- 2017-05-04 - Benjamin S. Grandey."
   ]
  },
  {
   "cell_type": "code",
   "execution_count": 1,
   "metadata": {
    "collapsed": true
   },
   "outputs": [],
   "source": [
    "import matplotlib.pyplot as plt\n",
    "import numpy as np\n",
    "import pandas as pd\n",
    "import string\n",
    "\n",
    "%matplotlib inline"
   ]
  },
  {
   "cell_type": "markdown",
   "metadata": {},
   "source": [
    "## Prepare data"
   ]
  },
  {
   "cell_type": "code",
   "execution_count": 2,
   "metadata": {},
   "outputs": [
    {
     "data": {
      "text/html": [
       "<div>\n",
       "<table border=\"1\" class=\"dataframe\">\n",
       "  <thead>\n",
       "    <tr style=\"text-align: right;\">\n",
       "      <th></th>\n",
       "      <th>data</th>\n",
       "      <th>error</th>\n",
       "      <th>label</th>\n",
       "    </tr>\n",
       "  </thead>\n",
       "  <tbody>\n",
       "    <tr>\n",
       "      <th>0</th>\n",
       "      <td>8.144827</td>\n",
       "      <td>2.017516</td>\n",
       "      <td>A</td>\n",
       "    </tr>\n",
       "    <tr>\n",
       "      <th>1</th>\n",
       "      <td>2.417908</td>\n",
       "      <td>0.881844</td>\n",
       "      <td>B</td>\n",
       "    </tr>\n",
       "    <tr>\n",
       "      <th>2</th>\n",
       "      <td>9.383458</td>\n",
       "      <td>0.548762</td>\n",
       "      <td>C</td>\n",
       "    </tr>\n",
       "    <tr>\n",
       "      <th>3</th>\n",
       "      <td>2.531920</td>\n",
       "      <td>0.288584</td>\n",
       "      <td>D</td>\n",
       "    </tr>\n",
       "    <tr>\n",
       "      <th>4</th>\n",
       "      <td>9.637515</td>\n",
       "      <td>2.917730</td>\n",
       "      <td>E</td>\n",
       "    </tr>\n",
       "    <tr>\n",
       "      <th>5</th>\n",
       "      <td>3.828937</td>\n",
       "      <td>2.120200</td>\n",
       "      <td>F</td>\n",
       "    </tr>\n",
       "    <tr>\n",
       "      <th>6</th>\n",
       "      <td>6.322291</td>\n",
       "      <td>1.208903</td>\n",
       "      <td>G</td>\n",
       "    </tr>\n",
       "    <tr>\n",
       "      <th>7</th>\n",
       "      <td>5.226539</td>\n",
       "      <td>2.096063</td>\n",
       "      <td>H</td>\n",
       "    </tr>\n",
       "    <tr>\n",
       "      <th>8</th>\n",
       "      <td>1.101903</td>\n",
       "      <td>2.788888</td>\n",
       "      <td>I</td>\n",
       "    </tr>\n",
       "    <tr>\n",
       "      <th>9</th>\n",
       "      <td>7.416226</td>\n",
       "      <td>1.815596</td>\n",
       "      <td>J</td>\n",
       "    </tr>\n",
       "  </tbody>\n",
       "</table>\n",
       "</div>"
      ],
      "text/plain": [
       "       data     error label\n",
       "0  8.144827  2.017516     A\n",
       "1  2.417908  0.881844     B\n",
       "2  9.383458  0.548762     C\n",
       "3  2.531920  0.288584     D\n",
       "4  9.637515  2.917730     E\n",
       "5  3.828937  2.120200     F\n",
       "6  6.322291  1.208903     G\n",
       "7  5.226539  2.096063     H\n",
       "8  1.101903  2.788888     I\n",
       "9  7.416226  1.815596     J"
      ]
     },
     "execution_count": 2,
     "metadata": {},
     "output_type": "execute_result"
    }
   ],
   "source": [
    "# Create some data\n",
    "data = np.arange(1, 11) + np.random.uniform(-0.5, 0.5, size=10)\n",
    "np.random.shuffle(data)\n",
    "# And some y-error values\n",
    "error = np.random.uniform(0, 3, size=10)\n",
    "# And store in a Pandas dataframe\n",
    "df = pd.DataFrame({'data': data, 'error': error, 'label': list(string.ascii_uppercase[0:10])})\n",
    "df"
   ]
  },
  {
   "cell_type": "code",
   "execution_count": 3,
   "metadata": {},
   "outputs": [
    {
     "data": {
      "text/html": [
       "<div>\n",
       "<table border=\"1\" class=\"dataframe\">\n",
       "  <thead>\n",
       "    <tr style=\"text-align: right;\">\n",
       "      <th></th>\n",
       "      <th>data</th>\n",
       "      <th>error</th>\n",
       "      <th>label</th>\n",
       "    </tr>\n",
       "  </thead>\n",
       "  <tbody>\n",
       "    <tr>\n",
       "      <th>4</th>\n",
       "      <td>9.637515</td>\n",
       "      <td>2.917730</td>\n",
       "      <td>E</td>\n",
       "    </tr>\n",
       "    <tr>\n",
       "      <th>2</th>\n",
       "      <td>9.383458</td>\n",
       "      <td>0.548762</td>\n",
       "      <td>C</td>\n",
       "    </tr>\n",
       "    <tr>\n",
       "      <th>0</th>\n",
       "      <td>8.144827</td>\n",
       "      <td>2.017516</td>\n",
       "      <td>A</td>\n",
       "    </tr>\n",
       "    <tr>\n",
       "      <th>9</th>\n",
       "      <td>7.416226</td>\n",
       "      <td>1.815596</td>\n",
       "      <td>J</td>\n",
       "    </tr>\n",
       "    <tr>\n",
       "      <th>6</th>\n",
       "      <td>6.322291</td>\n",
       "      <td>1.208903</td>\n",
       "      <td>G</td>\n",
       "    </tr>\n",
       "    <tr>\n",
       "      <th>7</th>\n",
       "      <td>5.226539</td>\n",
       "      <td>2.096063</td>\n",
       "      <td>H</td>\n",
       "    </tr>\n",
       "    <tr>\n",
       "      <th>5</th>\n",
       "      <td>3.828937</td>\n",
       "      <td>2.120200</td>\n",
       "      <td>F</td>\n",
       "    </tr>\n",
       "    <tr>\n",
       "      <th>3</th>\n",
       "      <td>2.531920</td>\n",
       "      <td>0.288584</td>\n",
       "      <td>D</td>\n",
       "    </tr>\n",
       "    <tr>\n",
       "      <th>1</th>\n",
       "      <td>2.417908</td>\n",
       "      <td>0.881844</td>\n",
       "      <td>B</td>\n",
       "    </tr>\n",
       "    <tr>\n",
       "      <th>8</th>\n",
       "      <td>1.101903</td>\n",
       "      <td>2.788888</td>\n",
       "      <td>I</td>\n",
       "    </tr>\n",
       "  </tbody>\n",
       "</table>\n",
       "</div>"
      ],
      "text/plain": [
       "       data     error label\n",
       "4  9.637515  2.917730     E\n",
       "2  9.383458  0.548762     C\n",
       "0  8.144827  2.017516     A\n",
       "9  7.416226  1.815596     J\n",
       "6  6.322291  1.208903     G\n",
       "7  5.226539  2.096063     H\n",
       "5  3.828937  2.120200     F\n",
       "3  2.531920  0.288584     D\n",
       "1  2.417908  0.881844     B\n",
       "8  1.101903  2.788888     I"
      ]
     },
     "execution_count": 3,
     "metadata": {},
     "output_type": "execute_result"
    }
   ],
   "source": [
    "# Sort data by size\n",
    "df = df.sort_values(by='data', ascending=False)\n",
    "df"
   ]
  },
  {
   "cell_type": "code",
   "execution_count": 4,
   "metadata": {},
   "outputs": [
    {
     "data": {
      "text/html": [
       "<div>\n",
       "<table border=\"1\" class=\"dataframe\">\n",
       "  <thead>\n",
       "    <tr style=\"text-align: right;\">\n",
       "      <th></th>\n",
       "      <th>data</th>\n",
       "      <th>error</th>\n",
       "      <th>label</th>\n",
       "    </tr>\n",
       "  </thead>\n",
       "  <tbody>\n",
       "    <tr>\n",
       "      <th>0</th>\n",
       "      <td>9.637515</td>\n",
       "      <td>2.917730</td>\n",
       "      <td>E</td>\n",
       "    </tr>\n",
       "    <tr>\n",
       "      <th>1</th>\n",
       "      <td>9.383458</td>\n",
       "      <td>0.548762</td>\n",
       "      <td>C</td>\n",
       "    </tr>\n",
       "    <tr>\n",
       "      <th>2</th>\n",
       "      <td>8.144827</td>\n",
       "      <td>2.017516</td>\n",
       "      <td>A</td>\n",
       "    </tr>\n",
       "    <tr>\n",
       "      <th>3</th>\n",
       "      <td>7.416226</td>\n",
       "      <td>1.815596</td>\n",
       "      <td>J</td>\n",
       "    </tr>\n",
       "    <tr>\n",
       "      <th>4</th>\n",
       "      <td>6.322291</td>\n",
       "      <td>1.208903</td>\n",
       "      <td>G</td>\n",
       "    </tr>\n",
       "    <tr>\n",
       "      <th>5</th>\n",
       "      <td>5.226539</td>\n",
       "      <td>2.096063</td>\n",
       "      <td>H</td>\n",
       "    </tr>\n",
       "    <tr>\n",
       "      <th>6</th>\n",
       "      <td>3.828937</td>\n",
       "      <td>2.120200</td>\n",
       "      <td>F</td>\n",
       "    </tr>\n",
       "    <tr>\n",
       "      <th>7</th>\n",
       "      <td>2.531920</td>\n",
       "      <td>0.288584</td>\n",
       "      <td>D</td>\n",
       "    </tr>\n",
       "    <tr>\n",
       "      <th>8</th>\n",
       "      <td>2.417908</td>\n",
       "      <td>0.881844</td>\n",
       "      <td>B</td>\n",
       "    </tr>\n",
       "    <tr>\n",
       "      <th>9</th>\n",
       "      <td>1.101903</td>\n",
       "      <td>2.788888</td>\n",
       "      <td>I</td>\n",
       "    </tr>\n",
       "    <tr>\n",
       "      <th>10</th>\n",
       "      <td>NaN</td>\n",
       "      <td>NaN</td>\n",
       "      <td></td>\n",
       "    </tr>\n",
       "    <tr>\n",
       "      <th>11</th>\n",
       "      <td>56.011524</td>\n",
       "      <td>5.930434</td>\n",
       "      <td>Sum</td>\n",
       "    </tr>\n",
       "  </tbody>\n",
       "</table>\n",
       "</div>"
      ],
      "text/plain": [
       "         data     error label\n",
       "0    9.637515  2.917730     E\n",
       "1    9.383458  0.548762     C\n",
       "2    8.144827  2.017516     A\n",
       "3    7.416226  1.815596     J\n",
       "4    6.322291  1.208903     G\n",
       "5    5.226539  2.096063     H\n",
       "6    3.828937  2.120200     F\n",
       "7    2.531920  0.288584     D\n",
       "8    2.417908  0.881844     B\n",
       "9    1.101903  2.788888     I\n",
       "10        NaN       NaN      \n",
       "11  56.011524  5.930434   Sum"
      ]
     },
     "execution_count": 4,
     "metadata": {},
     "output_type": "execute_result"
    }
   ],
   "source": [
    "# Calculate sum of data and combined standard error\n",
    "data_sum = df['data'].sum()\n",
    "combined_error = np.sqrt((df['error']**2).sum())\n",
    "# Add to end of dataframe, with a gap before it\n",
    "df = df.append({'data': np.nan, 'error': np.nan, 'label': ''}, ignore_index=True)\n",
    "df = df.append({'data': data_sum, 'error': combined_error, 'label': 'Sum'}, ignore_index=True)\n",
    "df"
   ]
  },
  {
   "cell_type": "markdown",
   "metadata": {},
   "source": [
    "## Basic barchart"
   ]
  },
  {
   "cell_type": "code",
   "execution_count": 5,
   "metadata": {},
   "outputs": [
    {
     "data": {
      "image/png": "[encoded data removed]",
      "text/plain": [
       "<matplotlib.figure.Figure at 0x10cb270b8>"
      ]
     },
     "metadata": {},
     "output_type": "display_data"
    }
   ],
   "source": [
    "fig, ax = plt.subplots(figsize=(8, 8))\n",
    "ax.bar(np.arange(len(df)), df['data'], yerr=df['error'], width=0.9)\n",
    "ax.set_xticks(np.arange(len(df)))\n",
    "ax.set_xticklabels(df['label'])\n",
    "ax.set_xlabel('Label')\n",
    "ax.set_ylabel('Value')\n",
    "ax.set_title('A basic barchart');"
   ]
  },
  {
   "cell_type": "markdown",
   "metadata": {},
   "source": [
    "## Stacked barchart "
   ]
  },
  {
   "cell_type": "code",
   "execution_count": 6,
   "metadata": {},
   "outputs": [
    {
     "data": {
      "image/png": "[encoded data removed]",
      "text/plain": [
       "<matplotlib.figure.Figure at 0x10ff08978>"
      ]
     },
     "metadata": {},
     "output_type": "display_data"
    }
   ],
   "source": [
    "fig, ax = plt.subplots(figsize=(3, 8))\n",
    "bottom = 0  # initialise bottom of stacked bars\n",
    "for label in df['label'][:10]:  # loop through data and plot stacked bars\n",
    "    ax.bar(0, df[df['label']==label]['data'], yerr=df[df['label']==label]['error'], width=1, bottom=bottom)\n",
    "    ax.text(0.5, (2*bottom+float(df[df['label']==label]['data']))/2, label)\n",
    "    bottom += float(df[df['label']==label]['data'])  # top of current bar is bottom of next bar\n",
    "ax.bar(2, data_sum, yerr=combined_error, width=1)  # sum - final bar\n",
    "ax.set_xlim([-1, 3])\n",
    "ax.set_xticks([0, 2])\n",
    "ax.set_xticklabels(['A:J', 'Sum',])\n",
    "ax.set_xlabel('Label')\n",
    "ax.set_ylabel('Value')\n",
    "ax.set_title('A stacked barchart');"
   ]
  },
  {
   "cell_type": "markdown",
   "metadata": {},
   "source": [
    "## A stacked-staggered barchart"
   ]
  },
  {
   "cell_type": "code",
   "execution_count": 7,
   "metadata": {},
   "outputs": [
    {
     "data": {
      "text/plain": [
       "array([  0.        ,   9.63751533,  19.02097353,  27.16580037,\n",
       "        34.58202667,  40.90431742,  46.13085603,  49.95979278,\n",
       "        52.49171265,  54.90962064,   0.        ,   0.        ])"
      ]
     },
     "execution_count": 7,
     "metadata": {},
     "output_type": "execute_result"
    }
   ],
   "source": [
    "bottom = np.zeros(12)  # array to hold information about bottom of bars\n",
    "for label, i in zip(df['label'][0:9], range(9)):\n",
    "    bottom[i+1] = bottom[i] + float(df[df['label']==label]['data'])  # bottoms as per stacked barchart above\n",
    "bottom"
   ]
  },
  {
   "cell_type": "code",
   "execution_count": 8,
   "metadata": {},
   "outputs": [
    {
     "data": {
      "text/plain": [
       "<matplotlib.text.Text at 0x1101c7b70>"
      ]
     },
     "execution_count": 8,
     "metadata": {},
     "output_type": "execute_result"
    },
    {
     "data": {
      "image/png": "[encoded data removed]",
      "text/plain": [
       "<matplotlib.figure.Figure at 0x1101674e0>"
      ]
     },
     "metadata": {},
     "output_type": "display_data"
    }
   ],
   "source": [
    "# Stacked-staggered barchart\n",
    "fig, ax = plt.subplots(figsize=(8, 8))\n",
    "ax.bar(np.arange(len(df)), df['data'], yerr=df['error'], width=1.2, bottom=bottom)\n",
    "# Ticks etc\n",
    "ax.set_xticks(np.arange(len(df)))\n",
    "ax.set_xticklabels(df['label'])\n",
    "ax.set_xlabel('Label', fontsize='x-large')\n",
    "ax.set_ylabel('Value', fontsize='x-large')\n",
    "ax.set_title('A stacked-staggered barchart', fontsize='xx-large')"
   ]
  },
  {
   "cell_type": "code",
   "execution_count": 9,
   "metadata": {},
   "outputs": [
    {
     "data": {
      "image/png": "[encoded data removed]",
      "text/plain": [
       "<matplotlib.figure.Figure at 0x1103599b0>"
      ]
     },
     "metadata": {},
     "output_type": "display_data"
    }
   ],
   "source": [
    "# Stacked-staggered barchart with annotations\n",
    "fig, ax = plt.subplots(figsize=(8, 8))\n",
    "ax.bar(np.arange(len(df)), df['data'], yerr=df['error'], width=1.2, bottom=bottom)\n",
    "# Ticks etc\n",
    "ax.set_xticks(np.arange(len(df)))\n",
    "ax.set_xticklabels(df['label'])\n",
    "ax.set_xlabel('Label', fontsize='x-large')\n",
    "ax.set_ylabel('Value', fontsize='x-large')\n",
    "ax.set_title('A stacked-staggered barchart with annotations', fontsize='xx-large')\n",
    "# Brace\n",
    "ax.plot([10, 10], [0, data_sum], c='r')\n",
    "ax.plot([10, 10.2], [data_sum/2, data_sum/2], c='r')\n",
    "ax.plot([9.8, 10], [0, 0], c='r')\n",
    "ax.plot([9.8, 10], [data_sum, data_sum], c='r')\n",
    "# Add values\n",
    "for i in range(len(df)):\n",
    "    if i != 10:\n",
    "        text = r'{:.1f} $\\pm$ {:.1f}'.format(float(df[df.index==i]['data']), float(df[df.index==i]['error']))\n",
    "        ax.text(i-0.4, (bottom[i] + float(df[df.index==i]['data'])+0.5), text,\n",
    "                rotation=90, verticalalignment='bottom')"
   ]
  }
 ],
 "metadata": {
  "kernelspec": {
   "display_name": "Python 3",
   "language": "python",
   "name": "python3"
  },
  "language_info": {
   "codemirror_mode": {
    "name": "ipython",
    "version": 3
   },
   "file_extension": ".py",
   "mimetype": "text/x-python",
   "name": "python",
   "nbconvert_exporter": "python",
   "pygments_lexer": "ipython3",
   "version": "3.6.1"
  }
 },
 "nbformat": 4,
 "nbformat_minor": 2
}
