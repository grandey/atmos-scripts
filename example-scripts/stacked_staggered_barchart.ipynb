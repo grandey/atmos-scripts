{
 "cells": [
  {
   "cell_type": "markdown",
   "metadata": {},
   "source": [
    "# stacked_staggered_barchart.ipynb\n",
    "\n",
    "## Purpose:\n",
    "Produce a barchart that is stacked and staggered.\n",
    "\n",
    "## Author:\n",
    "Benjamin S. Grandey, 2017"
   ]
  },
  {
   "cell_type": "code",
   "execution_count": 1,
   "metadata": {
    "collapsed": true
   },
   "outputs": [],
   "source": [
    "import matplotlib.pyplot as plt\n",
    "import numpy as np\n",
    "import pandas as pd\n",
    "import string\n",
    "\n",
    "%matplotlib inline"
   ]
  },
  {
   "cell_type": "markdown",
   "metadata": {},
   "source": [
    "## Prepare data"
   ]
  },
  {
   "cell_type": "code",
   "execution_count": 2,
   "metadata": {},
   "outputs": [
    {
     "data": {
      "text/html": [
       "<div>\n",
       "<table border=\"1\" class=\"dataframe\">\n",
       "  <thead>\n",
       "    <tr style=\"text-align: right;\">\n",
       "      <th></th>\n",
       "      <th>data</th>\n",
       "      <th>error</th>\n",
       "      <th>label</th>\n",
       "    </tr>\n",
       "  </thead>\n",
       "  <tbody>\n",
       "    <tr>\n",
       "      <th>0</th>\n",
       "      <td>10.157909</td>\n",
       "      <td>0.492387</td>\n",
       "      <td>A</td>\n",
       "    </tr>\n",
       "    <tr>\n",
       "      <th>1</th>\n",
       "      <td>9.092042</td>\n",
       "      <td>1.946255</td>\n",
       "      <td>B</td>\n",
       "    </tr>\n",
       "    <tr>\n",
       "      <th>2</th>\n",
       "      <td>7.124303</td>\n",
       "      <td>0.316907</td>\n",
       "      <td>C</td>\n",
       "    </tr>\n",
       "    <tr>\n",
       "      <th>3</th>\n",
       "      <td>0.581868</td>\n",
       "      <td>0.875951</td>\n",
       "      <td>D</td>\n",
       "    </tr>\n",
       "    <tr>\n",
       "      <th>4</th>\n",
       "      <td>3.679855</td>\n",
       "      <td>2.736821</td>\n",
       "      <td>E</td>\n",
       "    </tr>\n",
       "    <tr>\n",
       "      <th>5</th>\n",
       "      <td>1.588964</td>\n",
       "      <td>2.296694</td>\n",
       "      <td>F</td>\n",
       "    </tr>\n",
       "    <tr>\n",
       "      <th>6</th>\n",
       "      <td>5.505097</td>\n",
       "      <td>1.805860</td>\n",
       "      <td>G</td>\n",
       "    </tr>\n",
       "    <tr>\n",
       "      <th>7</th>\n",
       "      <td>2.710824</td>\n",
       "      <td>0.012920</td>\n",
       "      <td>H</td>\n",
       "    </tr>\n",
       "    <tr>\n",
       "      <th>8</th>\n",
       "      <td>4.950556</td>\n",
       "      <td>1.238819</td>\n",
       "      <td>I</td>\n",
       "    </tr>\n",
       "    <tr>\n",
       "      <th>9</th>\n",
       "      <td>8.054888</td>\n",
       "      <td>2.496359</td>\n",
       "      <td>J</td>\n",
       "    </tr>\n",
       "  </tbody>\n",
       "</table>\n",
       "</div>"
      ],
      "text/plain": [
       "        data     error label\n",
       "0  10.157909  0.492387     A\n",
       "1   9.092042  1.946255     B\n",
       "2   7.124303  0.316907     C\n",
       "3   0.581868  0.875951     D\n",
       "4   3.679855  2.736821     E\n",
       "5   1.588964  2.296694     F\n",
       "6   5.505097  1.805860     G\n",
       "7   2.710824  0.012920     H\n",
       "8   4.950556  1.238819     I\n",
       "9   8.054888  2.496359     J"
      ]
     },
     "execution_count": 2,
     "metadata": {},
     "output_type": "execute_result"
    }
   ],
   "source": [
    "# Create some data\n",
    "data = np.arange(1, 11) + np.random.uniform(-0.5, 0.5, size=10)\n",
    "np.random.shuffle(data)\n",
    "# And some y-error values\n",
    "error = np.random.uniform(0, 3, size=10)\n",
    "# And store in a Pandas dataframe\n",
    "df = pd.DataFrame({'data': data, 'error': error, 'label': list(string.ascii_uppercase[0:10])})\n",
    "df"
   ]
  },
  {
   "cell_type": "code",
   "execution_count": 3,
   "metadata": {},
   "outputs": [
    {
     "data": {
      "text/html": [
       "<div>\n",
       "<table border=\"1\" class=\"dataframe\">\n",
       "  <thead>\n",
       "    <tr style=\"text-align: right;\">\n",
       "      <th></th>\n",
       "      <th>data</th>\n",
       "      <th>error</th>\n",
       "      <th>label</th>\n",
       "    </tr>\n",
       "  </thead>\n",
       "  <tbody>\n",
       "    <tr>\n",
       "      <th>0</th>\n",
       "      <td>10.157909</td>\n",
       "      <td>0.492387</td>\n",
       "      <td>A</td>\n",
       "    </tr>\n",
       "    <tr>\n",
       "      <th>1</th>\n",
       "      <td>9.092042</td>\n",
       "      <td>1.946255</td>\n",
       "      <td>B</td>\n",
       "    </tr>\n",
       "    <tr>\n",
       "      <th>9</th>\n",
       "      <td>8.054888</td>\n",
       "      <td>2.496359</td>\n",
       "      <td>J</td>\n",
       "    </tr>\n",
       "    <tr>\n",
       "      <th>2</th>\n",
       "      <td>7.124303</td>\n",
       "      <td>0.316907</td>\n",
       "      <td>C</td>\n",
       "    </tr>\n",
       "    <tr>\n",
       "      <th>6</th>\n",
       "      <td>5.505097</td>\n",
       "      <td>1.805860</td>\n",
       "      <td>G</td>\n",
       "    </tr>\n",
       "    <tr>\n",
       "      <th>8</th>\n",
       "      <td>4.950556</td>\n",
       "      <td>1.238819</td>\n",
       "      <td>I</td>\n",
       "    </tr>\n",
       "    <tr>\n",
       "      <th>4</th>\n",
       "      <td>3.679855</td>\n",
       "      <td>2.736821</td>\n",
       "      <td>E</td>\n",
       "    </tr>\n",
       "    <tr>\n",
       "      <th>7</th>\n",
       "      <td>2.710824</td>\n",
       "      <td>0.012920</td>\n",
       "      <td>H</td>\n",
       "    </tr>\n",
       "    <tr>\n",
       "      <th>5</th>\n",
       "      <td>1.588964</td>\n",
       "      <td>2.296694</td>\n",
       "      <td>F</td>\n",
       "    </tr>\n",
       "    <tr>\n",
       "      <th>3</th>\n",
       "      <td>0.581868</td>\n",
       "      <td>0.875951</td>\n",
       "      <td>D</td>\n",
       "    </tr>\n",
       "  </tbody>\n",
       "</table>\n",
       "</div>"
      ],
      "text/plain": [
       "        data     error label\n",
       "0  10.157909  0.492387     A\n",
       "1   9.092042  1.946255     B\n",
       "9   8.054888  2.496359     J\n",
       "2   7.124303  0.316907     C\n",
       "6   5.505097  1.805860     G\n",
       "8   4.950556  1.238819     I\n",
       "4   3.679855  2.736821     E\n",
       "7   2.710824  0.012920     H\n",
       "5   1.588964  2.296694     F\n",
       "3   0.581868  0.875951     D"
      ]
     },
     "execution_count": 3,
     "metadata": {},
     "output_type": "execute_result"
    }
   ],
   "source": [
    "# Sort data by size\n",
    "df = df.sort_values(by='data', ascending=False)\n",
    "df"
   ]
  },
  {
   "cell_type": "code",
   "execution_count": 4,
   "metadata": {},
   "outputs": [
    {
     "data": {
      "text/html": [
       "<div>\n",
       "<table border=\"1\" class=\"dataframe\">\n",
       "  <thead>\n",
       "    <tr style=\"text-align: right;\">\n",
       "      <th></th>\n",
       "      <th>data</th>\n",
       "      <th>error</th>\n",
       "      <th>label</th>\n",
       "    </tr>\n",
       "  </thead>\n",
       "  <tbody>\n",
       "    <tr>\n",
       "      <th>0</th>\n",
       "      <td>10.157909</td>\n",
       "      <td>0.492387</td>\n",
       "      <td>A</td>\n",
       "    </tr>\n",
       "    <tr>\n",
       "      <th>1</th>\n",
       "      <td>9.092042</td>\n",
       "      <td>1.946255</td>\n",
       "      <td>B</td>\n",
       "    </tr>\n",
       "    <tr>\n",
       "      <th>2</th>\n",
       "      <td>8.054888</td>\n",
       "      <td>2.496359</td>\n",
       "      <td>J</td>\n",
       "    </tr>\n",
       "    <tr>\n",
       "      <th>3</th>\n",
       "      <td>7.124303</td>\n",
       "      <td>0.316907</td>\n",
       "      <td>C</td>\n",
       "    </tr>\n",
       "    <tr>\n",
       "      <th>4</th>\n",
       "      <td>5.505097</td>\n",
       "      <td>1.805860</td>\n",
       "      <td>G</td>\n",
       "    </tr>\n",
       "    <tr>\n",
       "      <th>5</th>\n",
       "      <td>4.950556</td>\n",
       "      <td>1.238819</td>\n",
       "      <td>I</td>\n",
       "    </tr>\n",
       "    <tr>\n",
       "      <th>6</th>\n",
       "      <td>3.679855</td>\n",
       "      <td>2.736821</td>\n",
       "      <td>E</td>\n",
       "    </tr>\n",
       "    <tr>\n",
       "      <th>7</th>\n",
       "      <td>2.710824</td>\n",
       "      <td>0.012920</td>\n",
       "      <td>H</td>\n",
       "    </tr>\n",
       "    <tr>\n",
       "      <th>8</th>\n",
       "      <td>1.588964</td>\n",
       "      <td>2.296694</td>\n",
       "      <td>F</td>\n",
       "    </tr>\n",
       "    <tr>\n",
       "      <th>9</th>\n",
       "      <td>0.581868</td>\n",
       "      <td>0.875951</td>\n",
       "      <td>D</td>\n",
       "    </tr>\n",
       "    <tr>\n",
       "      <th>10</th>\n",
       "      <td>NaN</td>\n",
       "      <td>NaN</td>\n",
       "      <td></td>\n",
       "    </tr>\n",
       "    <tr>\n",
       "      <th>11</th>\n",
       "      <td>53.446307</td>\n",
       "      <td>5.356384</td>\n",
       "      <td>Sum</td>\n",
       "    </tr>\n",
       "  </tbody>\n",
       "</table>\n",
       "</div>"
      ],
      "text/plain": [
       "         data     error label\n",
       "0   10.157909  0.492387     A\n",
       "1    9.092042  1.946255     B\n",
       "2    8.054888  2.496359     J\n",
       "3    7.124303  0.316907     C\n",
       "4    5.505097  1.805860     G\n",
       "5    4.950556  1.238819     I\n",
       "6    3.679855  2.736821     E\n",
       "7    2.710824  0.012920     H\n",
       "8    1.588964  2.296694     F\n",
       "9    0.581868  0.875951     D\n",
       "10        NaN       NaN      \n",
       "11  53.446307  5.356384   Sum"
      ]
     },
     "execution_count": 4,
     "metadata": {},
     "output_type": "execute_result"
    }
   ],
   "source": [
    "# Calculate sum of data and combined standard error\n",
    "data_sum = df['data'].sum()\n",
    "combined_error = np.sqrt((df['error']**2).sum())\n",
    "# Add to end of dataframe, with a gap before it\n",
    "df = df.append({'data': np.nan, 'error': np.nan, 'label': ''}, ignore_index=True)\n",
    "df = df.append({'data': data_sum, 'error': combined_error, 'label': 'Sum'}, ignore_index=True)\n",
    "df"
   ]
  },
  {
   "cell_type": "markdown",
   "metadata": {},
   "source": [
    "## Basic barchart"
   ]
  },
  {
   "cell_type": "code",
   "execution_count": 5,
   "metadata": {},
   "outputs": [
    {
     "data": {
      "image/png": "[encoded data removed]",
      "text/plain": [
       "<matplotlib.figure.Figure at 0x10d224048>"
      ]
     },
     "metadata": {},
     "output_type": "display_data"
    }
   ],
   "source": [
    "fig, ax = plt.subplots(figsize=(8, 8))\n",
    "ax.bar(np.arange(len(df)), df['data'], yerr=df['error'], width=0.9)\n",
    "ax.set_xticks(np.arange(len(df)))\n",
    "ax.set_xticklabels(df['label'])\n",
    "ax.set_xlabel('Label')\n",
    "ax.set_ylabel('Value')\n",
    "ax.set_title('A basic barchart');"
   ]
  },
  {
   "cell_type": "markdown",
   "metadata": {},
   "source": [
    "## Stacked barchart "
   ]
  },
  {
   "cell_type": "code",
   "execution_count": 6,
   "metadata": {},
   "outputs": [
    {
     "data": {
      "image/png": "[encoded data removed]",
      "text/plain": [
       "<matplotlib.figure.Figure at 0x10d55c630>"
      ]
     },
     "metadata": {},
     "output_type": "display_data"
    }
   ],
   "source": [
    "fig, ax = plt.subplots(figsize=(3, 8))\n",
    "bottom = 0  # initialise bottom of stacked bars\n",
    "for label in df['label'][:10]:  # loop through data and plot stacked bars\n",
    "    ax.bar(0, df[df['label']==label]['data'], yerr=df[df['label']==label]['error'], width=1, bottom=bottom)\n",
    "    ax.text(0.5, (2*bottom+float(df[df['label']==label]['data']))/2, label)\n",
    "    bottom += float(df[df['label']==label]['data'])  # top of current bar is bottom of next bar\n",
    "ax.bar(2, data_sum, yerr=combined_error, width=1)  # sum - final bar\n",
    "ax.set_xlim([-1, 3])\n",
    "ax.set_xticks([0, 2])\n",
    "ax.set_xticklabels(['A:J', 'Sum',])\n",
    "ax.set_xlabel('Label')\n",
    "ax.set_ylabel('Value')\n",
    "ax.set_title('A stacked barchart');"
   ]
  },
  {
   "cell_type": "markdown",
   "metadata": {},
   "source": [
    "## A stacked-staggered barchart"
   ]
  },
  {
   "cell_type": "code",
   "execution_count": 7,
   "metadata": {},
   "outputs": [
    {
     "data": {
      "text/plain": [
       "array([  0.        ,  10.15790904,  19.24995125,  27.30483903,\n",
       "        34.42914234,  39.93423981,  44.88479616,  48.56465109,\n",
       "        51.27547554,  52.86443966,   0.        ,   0.        ])"
      ]
     },
     "execution_count": 7,
     "metadata": {},
     "output_type": "execute_result"
    }
   ],
   "source": [
    "bottom = np.zeros(12)  # array to hold information about bottom of bars\n",
    "for label, i in zip(df['label'][0:9], range(9)):\n",
    "    bottom[i+1] = bottom[i] + float(df[df['label']==label]['data'])  # bottoms as per stacked barchart above\n",
    "bottom"
   ]
  },
  {
   "cell_type": "code",
   "execution_count": 8,
   "metadata": {},
   "outputs": [
    {
     "data": {
      "text/plain": [
       "<matplotlib.text.Text at 0x10d81cb38>"
      ]
     },
     "execution_count": 8,
     "metadata": {},
     "output_type": "execute_result"
    },
    {
     "data": {
      "image/png": "[encoded data removed]",
      "text/plain": [
       "<matplotlib.figure.Figure at 0x10d73b4e0>"
      ]
     },
     "metadata": {},
     "output_type": "display_data"
    }
   ],
   "source": [
    "# Stacked-staggered barchart\n",
    "fig, ax = plt.subplots(figsize=(8, 8))\n",
    "ax.bar(np.arange(len(df)), df['data'], yerr=df['error'], width=1.2, bottom=bottom)\n",
    "# Ticks etc\n",
    "ax.set_xticks(np.arange(len(df)))\n",
    "ax.set_xticklabels(df['label'])\n",
    "ax.set_xlabel('Label', fontsize='x-large')\n",
    "ax.set_ylabel('Value', fontsize='x-large')\n",
    "ax.set_title('A stacked-staggered barchart', fontsize='xx-large')"
   ]
  },
  {
   "cell_type": "code",
   "execution_count": 9,
   "metadata": {},
   "outputs": [
    {
     "data": {
      "image/png": "[encoded data removed]",
      "text/plain": [
       "<matplotlib.figure.Figure at 0x10d9afe80>"
      ]
     },
     "metadata": {},
     "output_type": "display_data"
    }
   ],
   "source": [
    "# Stacked-staggered barchart with annotations\n",
    "fig, ax = plt.subplots(figsize=(8, 8))\n",
    "ax.bar(np.arange(len(df)), df['data'], yerr=df['error'], width=1.2, bottom=bottom)\n",
    "# Ticks etc\n",
    "ax.set_xticks(np.arange(len(df)))\n",
    "ax.set_xticklabels(df['label'])\n",
    "ax.set_xlabel('Label', fontsize='x-large')\n",
    "ax.set_ylabel('Value', fontsize='x-large')\n",
    "ax.set_title('A stacked-staggered barchart with annotations', fontsize='xx-large')\n",
    "# Brace\n",
    "ax.plot([10, 10], [0, data_sum], c='r')\n",
    "ax.plot([10, 10.2], [data_sum/2, data_sum/2], c='r')\n",
    "ax.plot([9.8, 10], [0, 0], c='r')\n",
    "ax.plot([9.8, 10], [data_sum, data_sum], c='r')\n",
    "# Add values\n",
    "for i in range(len(df)):\n",
    "    if i != 10:\n",
    "        text = r'{:.1f} $\\pm$ {:.1f}'.format(float(df[df.index==i]['data']), float(df[df.index==i]['error']))\n",
    "        ax.text(i-0.4, (bottom[i] + float(df[df.index==i]['data'])+0.5), text,\n",
    "                rotation=90, verticalalignment='bottom')"
   ]
  }
 ],
 "metadata": {
  "kernelspec": {
   "display_name": "Python 3",
   "language": "python",
   "name": "python3"
  },
  "language_info": {
   "codemirror_mode": {
    "name": "ipython",
    "version": 3
   },
   "file_extension": ".py",
   "mimetype": "text/x-python",
   "name": "python",
   "nbconvert_exporter": "python",
   "pygments_lexer": "ipython3",
   "version": "3.6.1"
  }
 },
 "nbformat": 4,
 "nbformat_minor": 2
}
