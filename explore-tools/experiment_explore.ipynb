{
 "cells": [
  {
   "cell_type": "markdown",
   "metadata": {},
   "source": [
    "# experiment_explore.ipynb\n",
    "\n",
    "## Purpose\n",
    "Explore the [experiment](https://github.com/darothen/experiment) package, by [Daniel Rothenberg](https://github.com/darothen).\n",
    "\n",
    "## Status\n",
    "With version 0.0.1.dev-dbc0b45, encountering NotImplementedError with _load_timeslice method of Experiment.\n",
    "\n",
    "## General comments\n",
    "I really like the idea behind this package, but have not succeeded to get this early version to work with my data.\n",
    "\n",
    "## History\n",
    "- 2017-04-24 - Benjamin S. Grandey (benjamin@smart.mit.edu). Encountered NotImplementedError with _load_timeslice."
   ]
  },
  {
   "cell_type": "code",
   "execution_count": 1,
   "metadata": {},
   "outputs": [
    {
     "data": {
      "text/plain": [
       "'0.0.1.dev-dbc0b45'"
      ]
     },
     "execution_count": 1,
     "metadata": {},
     "output_type": "execute_result"
    }
   ],
   "source": [
    "import experiment\n",
    "import os\n",
    "\n",
    "experiment.__version__"
   ]
  },
  {
   "cell_type": "markdown",
   "metadata": {},
   "source": [
    "## Run unittests"
   ]
  },
  {
   "cell_type": "code",
   "execution_count": 2,
   "metadata": {},
   "outputs": [
    {
     "name": "stdout",
     "output_type": "stream",
     "text": [
      "\u001b[1m============================= test session starts ==============================\u001b[0m\n",
      "platform darwin -- Python 3.6.1, pytest-3.0.7, py-1.4.32, pluggy-0.4.0\n",
      "rootdir: /Users/grandey/github/experiment, inifile:\n",
      "collected 8 items \u001b[0m\u001b[1m\n",
      "\u001b[0m\n",
      "../../experiment/experiment/test/test_experiment.py ........\n",
      "\n",
      "\u001b[32m\u001b[1m=========================== 8 passed in 0.68 seconds ===========================\u001b[0m\n"
     ]
    }
   ],
   "source": [
    "# Run tests on path to local clone of repository - CHANGE IF NECESSARY\n",
    "!pytest $HOME/github/experiment  "
   ]
  },
  {
   "cell_type": "markdown",
   "metadata": {},
   "source": [
    "## Input data\n",
    "In order to explore experiment, I will use NetCDF output data from some CESM simulations. These data are not (yet) publicly available.  The data have the following directory / naming structure:\n",
    "```\n",
    "{variable}/p16a_F_{no_or_only}{region}_{year}.{variable}.nc\n",
    "```\n",
    "where {variable} is the variable name (e.g. \"PRECC\"), {no_or_only} is either \"No\" or \"Only\", {region} is a region code (e.g. \"Eur\"), and {year} is either 1970 or 2000."
   ]
  },
  {
   "cell_type": "code",
   "execution_count": 3,
   "metadata": {},
   "outputs": [],
   "source": [
    "# Location of input data - CHANGE IF NECESSARY\n",
    "in_dir = os.path.expandvars('$HOME/data/drafts/draft2017a_region_rfp_data/cesm_out')"
   ]
  },
  {
   "cell_type": "markdown",
   "metadata": {},
   "source": [
    "## Cases"
   ]
  },
  {
   "cell_type": "code",
   "execution_count": 4,
   "metadata": {},
   "outputs": [],
   "source": [
    "variable = experiment.Case('variable', 'Variable Name', ['PRECC', 'PRECL', 'SWCF_d1', 'LWCF_d1'])\n",
    "no_or_only = experiment.Case('no_or_only', 'No or Only', ['No', 'Only'])\n",
    "region = experiment.Case('region', 'Region Code', ['NoEur', 'NoNAm', 'NoSEAs'])\n",
    "year = experiment.Case('year', 'Year', ['1970', '2000'])"
   ]
  },
  {
   "cell_type": "markdown",
   "metadata": {},
   "source": [
    "## experiment1 - try just two Cases"
   ]
  },
  {
   "cell_type": "code",
   "execution_count": 5,
   "metadata": {},
   "outputs": [
    {
     "name": "stdout",
     "output_type": "stream",
     "text": [
      "PRECC\n",
      "PRECC\n",
      "PRECC\n",
      "PRECC\n",
      "PRECC\n",
      "PRECC\n"
     ]
    }
   ],
   "source": [
    "experiment1 = experiment.Experiment(name='my_first_experiment_with_Experiment',\n",
    "                                    cases=[region, year],\n",
    "                                    data_dir=in_dir,\n",
    "                                    case_path='PRECC',\n",
    "                                    output_prefix='p16a_F_No{region}{year}.',\n",
    "                                    output_suffix='.nc')"
   ]
  },
  {
   "cell_type": "code",
   "execution_count": 6,
   "metadata": {},
   "outputs": [
    {
     "ename": "NotImplementedError",
     "evalue": "",
     "output_type": "error",
     "traceback": [
      "\u001b[0;31m---------------------------------------------------------------------------\u001b[0m",
      "\u001b[0;31mNotImplementedError\u001b[0m                       Traceback (most recent call last)",
      "\u001b[0;32m<ipython-input-6-416a27ff8903>\u001b[0m in \u001b[0;36m<module>\u001b[0;34m()\u001b[0m\n\u001b[0;32m----> 1\u001b[0;31m \u001b[0mdata\u001b[0m \u001b[0;34m=\u001b[0m \u001b[0mexperiment1\u001b[0m\u001b[0;34m.\u001b[0m\u001b[0mload\u001b[0m\u001b[0;34m(\u001b[0m\u001b[0;34m'PRECC'\u001b[0m\u001b[0;34m)\u001b[0m\u001b[0;34m\u001b[0m\u001b[0m\n\u001b[0m",
      "\u001b[0;32m/Users/grandey/anaconda/envs/test36/lib/python3.6/site-packages/experiment-0.0.1.dev_dbc0b45-py3.6.egg/experiment/experiment.py\u001b[0m in \u001b[0;36mload\u001b[0;34m(self, var, fix_times, master, preprocess, load_kws, **case_kws)\u001b[0m\n\u001b[1;32m    354\u001b[0m         \u001b[0;32melse\u001b[0m\u001b[0;34m:\u001b[0m\u001b[0;34m\u001b[0m\u001b[0m\n\u001b[1;32m    355\u001b[0m             return self._load_timeslice(var, fix_times, master, preprocess,\n\u001b[0;32m--> 356\u001b[0;31m                                         load_kws, **case_kws)\n\u001b[0m\u001b[1;32m    357\u001b[0m \u001b[0;34m\u001b[0m\u001b[0m\n\u001b[1;32m    358\u001b[0m     def _load_timeslice(self, var, fix_times=False, master=False, preprocess=None,\n",
      "\u001b[0;32m/Users/grandey/anaconda/envs/test36/lib/python3.6/site-packages/experiment-0.0.1.dev_dbc0b45-py3.6.egg/experiment/experiment.py\u001b[0m in \u001b[0;36m_load_timeslice\u001b[0;34m(self, var, fix_times, master, preprocess, load_kws, **case_kws)\u001b[0m\n\u001b[1;32m    358\u001b[0m     def _load_timeslice(self, var, fix_times=False, master=False, preprocess=None,\n\u001b[1;32m    359\u001b[0m                         load_kws={}, **case_kws):\n\u001b[0;32m--> 360\u001b[0;31m         \u001b[0;32mraise\u001b[0m \u001b[0mNotImplementedError\u001b[0m\u001b[0;34m\u001b[0m\u001b[0m\n\u001b[0m\u001b[1;32m    361\u001b[0m \u001b[0;34m\u001b[0m\u001b[0m\n\u001b[1;32m    362\u001b[0m     def _load_timeseries(self, var, fix_times=False, master=False, preprocess=None,\n",
      "\u001b[0;31mNotImplementedError\u001b[0m: "
     ]
    }
   ],
   "source": [
    "data = experiment1.load('PRECC')"
   ]
  }
 ],
 "metadata": {
  "kernelspec": {
   "display_name": "Py 3.6 (test36)",
   "language": "python",
   "name": "py36test36"
  },
  "language_info": {
   "codemirror_mode": {
    "name": "ipython",
    "version": 3
   },
   "file_extension": ".py",
   "mimetype": "text/x-python",
   "name": "python",
   "nbconvert_exporter": "python",
   "pygments_lexer": "ipython3",
   "version": "3.6.0"
  }
 },
 "nbformat": 4,
 "nbformat_minor": 2
}
