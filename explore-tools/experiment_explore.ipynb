{
 "cells": [
  {
   "cell_type": "markdown",
   "metadata": {},
   "source": [
    "# experiment_explore.ipynb\n",
    "\n",
    "## Purpose\n",
    "Explore the [experiment](https://github.com/darothen/experiment) package, by [Daniel Rothenberg](https://github.com/darothen).\n",
    "\n",
    "## History\n",
    "- 2017-04-24 - Benjamin S. Grandey (benjamin@smart.mit.edu). Using version 0.0.1.dev-dbc0b45 of experiment."
   ]
  },
  {
   "cell_type": "code",
   "execution_count": 1,
   "metadata": {},
   "outputs": [
    {
     "data": {
      "text/plain": [
       "'0.0.1.dev-dbc0b45'"
      ]
     },
     "execution_count": 1,
     "metadata": {},
     "output_type": "execute_result"
    }
   ],
   "source": [
    "import experiment\n",
    "import numpy as np\n",
    "import os\n",
    "\n",
    "experiment.__version__"
   ]
  },
  {
   "cell_type": "markdown",
   "metadata": {},
   "source": [
    "## Run unittests"
   ]
  },
  {
   "cell_type": "code",
   "execution_count": 2,
   "metadata": {},
   "outputs": [
    {
     "name": "stdout",
     "output_type": "stream",
     "text": [
      "\u001b[1m============================= test session starts ==============================\u001b[0m\n",
      "platform darwin -- Python 3.6.1, pytest-3.0.7, py-1.4.32, pluggy-0.4.0\n",
      "rootdir: /Users/grandey/github/experiment, inifile:\n",
      "collected 8 items \u001b[0m\u001b[1m\n",
      "\u001b[0m\n",
      "../../experiment/experiment/test/test_experiment.py ........\n",
      "\n",
      "\u001b[32m\u001b[1m=========================== 8 passed in 0.63 seconds ===========================\u001b[0m\n"
     ]
    }
   ],
   "source": [
    "# Run tests on path to local clone of repository - CHANGE IF NECESSARY\n",
    "!pytest $HOME/github/experiment  "
   ]
  },
  {
   "cell_type": "markdown",
   "metadata": {},
   "source": [
    "## Apply experiment to test data"
   ]
  },
  {
   "cell_type": "code",
   "execution_count": 3,
   "metadata": {
    "collapsed": true
   },
   "outputs": [],
   "source": [
    "# Location of test data\n",
    "data_dir = os.path.expandvars('$HOME/github/experiment/experiment/test/data/sample/')"
   ]
  },
  {
   "cell_type": "code",
   "execution_count": 4,
   "metadata": {
    "collapsed": true
   },
   "outputs": [],
   "source": [
    "# Cases - based on sample.yaml in in_dir\n",
    "param1 = experiment.Case('param1', 'Parameter 1', ['a', 'b', 'c'])\n",
    "param2 = experiment.Case('param2', 'Parameter 2', ['1', '2', '3'])\n",
    "param3 = experiment.Case('param3', 'Parameter 3', ['alpha', 'beta'])"
   ]
  },
  {
   "cell_type": "code",
   "execution_count": 5,
   "metadata": {},
   "outputs": [],
   "source": [
    "# Experiment - based on sample.yaml\n",
    "exp1 = experiment.Experiment(name='test_data_experiment',\n",
    "                             cases=[param1, param2, param3],\n",
    "                             data_dir=data_dir,\n",
    "                             case_path='{param1}_{param2}',\n",
    "                             output_prefix='{param1}.{param2}.{param3}.',\n",
    "                             output_suffix='.tape.nc',\n",
    "                             timeseries=True,  # timeseries=True needed to avoid NotImplementedError\n",
    "                             validate_data=False)  "
   ]
  },
  {
   "cell_type": "code",
   "execution_count": 6,
   "metadata": {},
   "outputs": [
    {
     "name": "stdout",
     "output_type": "stream",
     "text": [
      "<class 'dict'>\n"
     ]
    },
    {
     "data": {
      "text/plain": [
       "{case(param1='a', param2='1', param3='alpha'): <xarray.Dataset>\n",
       " Dimensions:  ()\n",
       " Data variables:\n",
       "     precip   float64 nan,\n",
       " case(param1='a', param2='1', param3='beta'): <xarray.Dataset>\n",
       " Dimensions:  ()\n",
       " Data variables:\n",
       "     precip   float64 nan,\n",
       " case(param1='a', param2='2', param3='alpha'): <xarray.Dataset>\n",
       " Dimensions:  ()\n",
       " Data variables:\n",
       "     precip   float64 nan,\n",
       " case(param1='a', param2='2', param3='beta'): <xarray.Dataset>\n",
       " Dimensions:  ()\n",
       " Data variables:\n",
       "     precip   float64 nan,\n",
       " case(param1='a', param2='3', param3='alpha'): <xarray.Dataset>\n",
       " Dimensions:  ()\n",
       " Data variables:\n",
       "     precip   float64 nan,\n",
       " case(param1='a', param2='3', param3='beta'): <xarray.Dataset>\n",
       " Dimensions:  ()\n",
       " Data variables:\n",
       "     precip   float64 nan,\n",
       " case(param1='b', param2='1', param3='alpha'): <xarray.Dataset>\n",
       " Dimensions:  ()\n",
       " Data variables:\n",
       "     precip   float64 nan,\n",
       " case(param1='b', param2='1', param3='beta'): <xarray.Dataset>\n",
       " Dimensions:  ()\n",
       " Data variables:\n",
       "     precip   float64 nan,\n",
       " case(param1='b', param2='2', param3='alpha'): <xarray.Dataset>\n",
       " Dimensions:  ()\n",
       " Data variables:\n",
       "     precip   float64 nan,\n",
       " case(param1='b', param2='2', param3='beta'): <xarray.Dataset>\n",
       " Dimensions:  ()\n",
       " Data variables:\n",
       "     precip   float64 nan,\n",
       " case(param1='b', param2='3', param3='alpha'): <xarray.Dataset>\n",
       " Dimensions:  ()\n",
       " Data variables:\n",
       "     precip   float64 nan,\n",
       " case(param1='b', param2='3', param3='beta'): <xarray.Dataset>\n",
       " Dimensions:  ()\n",
       " Data variables:\n",
       "     precip   float64 nan,\n",
       " case(param1='c', param2='1', param3='alpha'): <xarray.Dataset>\n",
       " Dimensions:  ()\n",
       " Data variables:\n",
       "     precip   float64 nan,\n",
       " case(param1='c', param2='1', param3='beta'): <xarray.Dataset>\n",
       " Dimensions:  ()\n",
       " Data variables:\n",
       "     precip   float64 nan,\n",
       " case(param1='c', param2='2', param3='alpha'): <xarray.Dataset>\n",
       " Dimensions:  ()\n",
       " Data variables:\n",
       "     precip   float64 nan,\n",
       " case(param1='c', param2='2', param3='beta'): <xarray.Dataset>\n",
       " Dimensions:  ()\n",
       " Data variables:\n",
       "     precip   float64 nan,\n",
       " case(param1='c', param2='3', param3='alpha'): <xarray.Dataset>\n",
       " Dimensions:  ()\n",
       " Data variables:\n",
       "     precip   float64 nan,\n",
       " case(param1='c', param2='3', param3='beta'): <xarray.Dataset>\n",
       " Dimensions:  ()\n",
       " Data variables:\n",
       "     precip   float64 nan}"
      ]
     },
     "execution_count": 6,
     "metadata": {},
     "output_type": "execute_result"
    }
   ],
   "source": [
    "# Try loading 'precip' data\n",
    "data_dict1 = exp1.load('precip')\n",
    "print(type(data_dict1))\n",
    "data_dict1"
   ]
  },
  {
   "cell_type": "markdown",
   "metadata": {},
   "source": [
    "**Comment**: I have not been able to work out why NaNs have been loaded as opposed to arrays."
   ]
  },
  {
   "cell_type": "markdown",
   "metadata": {},
   "source": [
    "## Apply experiment to some of my own data\n",
    "In order to explore experiment, I will use NetCDF output data from some CESM simulations. These data are not (yet) publicly available.  The data have the following directory / naming structure:\n",
    "```\n",
    "{variable}/p16a_F_{no_or_only}{region}_{year}.{variable}.nc\n",
    "```\n",
    "where {variable} is the variable name (e.g. \"PRECC\"), {no_or_only} is either \"No\" or \"Only\", {region} is a region code (e.g. \"Eur\"), and {year} is either 1970 or 2000."
   ]
  },
  {
   "cell_type": "code",
   "execution_count": 7,
   "metadata": {},
   "outputs": [],
   "source": [
    "# Location of input data - CHANGE IF NECESSARY\n",
    "in_dir = os.path.expandvars('$HOME/data/drafts/draft2017a_region_rfp_data/cesm_out/')"
   ]
  },
  {
   "cell_type": "code",
   "execution_count": 8,
   "metadata": {},
   "outputs": [],
   "source": [
    "# Try just two Cases to keep things simple\n",
    "region = experiment.Case('region', 'Region Code', ['Eur', 'NAm', 'SEAs'])\n",
    "year = experiment.Case('year', 'Year', ['1970', '2000'])\n",
    "exp2 = experiment.Experiment(name='two_Cases',\n",
    "                             cases=[region, year],\n",
    "                             data_dir=in_dir,\n",
    "                             case_path='PRECC',\n",
    "                             output_prefix='p16a_F_No{region}_{year}.',\n",
    "                             output_suffix='.nc',\n",
    "                             timeseries=True,  # timeseries=True needed to avoid NotImplementedError\n",
    "                             validate_data=False)"
   ]
  },
  {
   "cell_type": "code",
   "execution_count": 9,
   "metadata": {},
   "outputs": [
    {
     "data": {
      "text/plain": [
       "{case(region='Eur', year='1970'): <xarray.Dataset>\n",
       " Dimensions:    (lat: 96, lon: 144, nb2: 2, time: 384)\n",
       " Coordinates:\n",
       "   * lon        (lon) float64 0.0 2.5 5.0 7.5 10.0 12.5 15.0 17.5 20.0 22.5 ...\n",
       "   * lat        (lat) float64 -90.0 -88.11 -86.21 -84.32 -82.42 -80.53 -78.63 ...\n",
       "   * time       (time) float64 31.0 59.0 90.0 120.0 151.0 181.0 212.0 243.0 ...\n",
       " Dimensions without coordinates: nb2\n",
       " Data variables:\n",
       "     time_bnds  (time, nb2) float64 0.0 31.0 31.0 59.0 59.0 90.0 90.0 120.0 ...\n",
       "     PRECC      (time, lat, lon) float32 0.0 0.0 0.0 0.0 0.0 0.0 0.0 0.0 0.0 ...\n",
       " Attributes:\n",
       "     CDI:              Climate Data Interface version 1.5.6 (http://code.zmaw....\n",
       "     Conventions:      CF-1.0\n",
       "     history:          Thu Dec 29 14:54:06 2016: cdo mergetime /somerset/grand...\n",
       "     case:             p16a_F_NoEur_1970\n",
       "     title:            UNSET\n",
       "     logname:          benjamin\n",
       "     host:             std0807\n",
       "     Version:          $Name$\n",
       "     revision_Id:      $Id$\n",
       "     initial_file:     /scratch/users/academy/smart/benjamin/00Data4Modeling/C...\n",
       "     topography_file:  /scratch/users/academy/smart/benjamin/00Data4Modeling/C...\n",
       "     CDO:              Climate Data Operators version 1.5.6.1 (http://code.zma...,\n",
       " case(region='Eur', year='2000'): <xarray.Dataset>\n",
       " Dimensions:    (lat: 96, lon: 144, nb2: 2, time: 384)\n",
       " Coordinates:\n",
       "   * lon        (lon) float64 0.0 2.5 5.0 7.5 10.0 12.5 15.0 17.5 20.0 22.5 ...\n",
       "   * lat        (lat) float64 -90.0 -88.11 -86.21 -84.32 -82.42 -80.53 -78.63 ...\n",
       "   * time       (time) float64 31.0 59.0 90.0 120.0 151.0 181.0 212.0 243.0 ...\n",
       " Dimensions without coordinates: nb2\n",
       " Data variables:\n",
       "     time_bnds  (time, nb2) float64 0.0 31.0 31.0 59.0 59.0 90.0 90.0 120.0 ...\n",
       "     PRECC      (time, lat, lon) float32 0.0 0.0 0.0 0.0 0.0 0.0 0.0 0.0 0.0 ...\n",
       " Attributes:\n",
       "     CDI:              Climate Data Interface version 1.5.6 (http://code.zmaw....\n",
       "     Conventions:      CF-1.0\n",
       "     history:          Thu Dec 29 14:54:26 2016: cdo mergetime /somerset/grand...\n",
       "     case:             p16a_F_NoEur_2000\n",
       "     title:            UNSET\n",
       "     logname:          benjamin\n",
       "     host:             std0546\n",
       "     Version:          $Name$\n",
       "     revision_Id:      $Id$\n",
       "     initial_file:     /scratch/users/academy/smart/benjamin/00Data4Modeling/C...\n",
       "     topography_file:  /scratch/users/academy/smart/benjamin/00Data4Modeling/C...\n",
       "     CDO:              Climate Data Operators version 1.5.6.1 (http://code.zma...,\n",
       " case(region='NAm', year='1970'): <xarray.Dataset>\n",
       " Dimensions:    (lat: 96, lon: 144, nb2: 2, time: 384)\n",
       " Coordinates:\n",
       "   * lon        (lon) float64 0.0 2.5 5.0 7.5 10.0 12.5 15.0 17.5 20.0 22.5 ...\n",
       "   * lat        (lat) float64 -90.0 -88.11 -86.21 -84.32 -82.42 -80.53 -78.63 ...\n",
       "   * time       (time) float64 31.0 59.0 90.0 120.0 151.0 181.0 212.0 243.0 ...\n",
       " Dimensions without coordinates: nb2\n",
       " Data variables:\n",
       "     time_bnds  (time, nb2) float64 0.0 31.0 31.0 59.0 59.0 90.0 90.0 120.0 ...\n",
       "     PRECC      (time, lat, lon) float32 0.0 0.0 0.0 0.0 0.0 0.0 0.0 0.0 0.0 ...\n",
       " Attributes:\n",
       "     CDI:              Climate Data Interface version 1.5.6 (http://code.zmaw....\n",
       "     Conventions:      CF-1.0\n",
       "     history:          Thu Dec 29 14:54:45 2016: cdo mergetime /somerset/grand...\n",
       "     case:             p16a_F_NoNAm_1970\n",
       "     title:            UNSET\n",
       "     logname:          benjamin\n",
       "     host:             std1106\n",
       "     Version:          $Name$\n",
       "     revision_Id:      $Id$\n",
       "     initial_file:     /scratch/users/academy/smart/benjamin/00Data4Modeling/C...\n",
       "     topography_file:  /scratch/users/academy/smart/benjamin/00Data4Modeling/C...\n",
       "     CDO:              Climate Data Operators version 1.5.6.1 (http://code.zma...,\n",
       " case(region='NAm', year='2000'): <xarray.Dataset>\n",
       " Dimensions:    (lat: 96, lon: 144, nb2: 2, time: 384)\n",
       " Coordinates:\n",
       "   * lon        (lon) float64 0.0 2.5 5.0 7.5 10.0 12.5 15.0 17.5 20.0 22.5 ...\n",
       "   * lat        (lat) float64 -90.0 -88.11 -86.21 -84.32 -82.42 -80.53 -78.63 ...\n",
       "   * time       (time) float64 31.0 59.0 90.0 120.0 151.0 181.0 212.0 243.0 ...\n",
       " Dimensions without coordinates: nb2\n",
       " Data variables:\n",
       "     time_bnds  (time, nb2) float64 0.0 31.0 31.0 59.0 59.0 90.0 90.0 120.0 ...\n",
       "     PRECC      (time, lat, lon) float32 0.0 0.0 0.0 0.0 0.0 0.0 0.0 0.0 0.0 ...\n",
       " Attributes:\n",
       "     CDI:              Climate Data Interface version 1.5.6 (http://code.zmaw....\n",
       "     Conventions:      CF-1.0\n",
       "     history:          Thu Dec 29 14:55:04 2016: cdo mergetime /somerset/grand...\n",
       "     case:             p16a_F_NoNAm_2000\n",
       "     title:            UNSET\n",
       "     logname:          benjamin\n",
       "     host:             std0138\n",
       "     Version:          $Name$\n",
       "     revision_Id:      $Id$\n",
       "     initial_file:     /scratch/users/academy/smart/benjamin/00Data4Modeling/C...\n",
       "     topography_file:  /scratch/users/academy/smart/benjamin/00Data4Modeling/C...\n",
       "     CDO:              Climate Data Operators version 1.5.6.1 (http://code.zma...,\n",
       " case(region='SEAs', year='1970'): <xarray.Dataset>\n",
       " Dimensions:    (lat: 96, lon: 144, nb2: 2, time: 384)\n",
       " Coordinates:\n",
       "   * lon        (lon) float64 0.0 2.5 5.0 7.5 10.0 12.5 15.0 17.5 20.0 22.5 ...\n",
       "   * lat        (lat) float64 -90.0 -88.11 -86.21 -84.32 -82.42 -80.53 -78.63 ...\n",
       "   * time       (time) float64 31.0 59.0 90.0 120.0 151.0 181.0 212.0 243.0 ...\n",
       " Dimensions without coordinates: nb2\n",
       " Data variables:\n",
       "     time_bnds  (time, nb2) float64 0.0 31.0 31.0 59.0 59.0 90.0 90.0 120.0 ...\n",
       "     PRECC      (time, lat, lon) float32 0.0 0.0 0.0 0.0 0.0 0.0 0.0 0.0 0.0 ...\n",
       " Attributes:\n",
       "     CDI:              Climate Data Interface version 1.5.6 (http://code.zmaw....\n",
       "     Conventions:      CF-1.0\n",
       "     history:          Thu Dec 29 14:56:41 2016: cdo mergetime /somerset/grand...\n",
       "     case:             p16a_F_NoSEAs_1970\n",
       "     title:            UNSET\n",
       "     logname:          benjamin\n",
       "     host:             std1301\n",
       "     Version:          $Name$\n",
       "     revision_Id:      $Id$\n",
       "     initial_file:     /scratch/users/academy/smart/benjamin/00Data4Modeling/C...\n",
       "     topography_file:  /scratch/users/academy/smart/benjamin/00Data4Modeling/C...\n",
       "     CDO:              Climate Data Operators version 1.5.6.1 (http://code.zma...,\n",
       " case(region='SEAs', year='2000'): <xarray.Dataset>\n",
       " Dimensions:    (lat: 96, lon: 144, nb2: 2, time: 384)\n",
       " Coordinates:\n",
       "   * lon        (lon) float64 0.0 2.5 5.0 7.5 10.0 12.5 15.0 17.5 20.0 22.5 ...\n",
       "   * lat        (lat) float64 -90.0 -88.11 -86.21 -84.32 -82.42 -80.53 -78.63 ...\n",
       "   * time       (time) float64 31.0 59.0 90.0 120.0 151.0 181.0 212.0 243.0 ...\n",
       " Dimensions without coordinates: nb2\n",
       " Data variables:\n",
       "     time_bnds  (time, nb2) float64 0.0 31.0 31.0 59.0 59.0 90.0 90.0 120.0 ...\n",
       "     PRECC      (time, lat, lon) float32 0.0 0.0 0.0 0.0 0.0 0.0 0.0 0.0 0.0 ...\n",
       " Attributes:\n",
       "     CDI:              Climate Data Interface version 1.5.6 (http://code.zmaw....\n",
       "     Conventions:      CF-1.0\n",
       "     history:          Thu Dec 29 14:57:00 2016: cdo mergetime /somerset/grand...\n",
       "     case:             p16a_F_NoSEAs_2000\n",
       "     title:            UNSET\n",
       "     logname:          benjamin\n",
       "     host:             std1301\n",
       "     Version:          $Name$\n",
       "     revision_Id:      $Id$\n",
       "     initial_file:     /scratch/users/academy/smart/benjamin/00Data4Modeling/C...\n",
       "     topography_file:  /scratch/users/academy/smart/benjamin/00Data4Modeling/C...\n",
       "     CDO:              Climate Data Operators version 1.5.6.1 (http://code.zma...}"
      ]
     },
     "execution_count": 9,
     "metadata": {},
     "output_type": "execute_result"
    }
   ],
   "source": [
    "# Load data\n",
    "data_dict2 = exp2.load('PRECC')\n",
    "data_dict2"
   ]
  },
  {
   "cell_type": "markdown",
   "metadata": {},
   "source": [
    "**Comment**: experiment appears to have successfully loaded the data."
   ]
  },
  {
   "cell_type": "code",
   "execution_count": 10,
   "metadata": {},
   "outputs": [
    {
     "name": "stdout",
     "output_type": "stream",
     "text": [
      "case(region='Eur', year='1970')\n",
      "<xarray.Dataset>\n",
      "Dimensions:    ()\n",
      "Data variables:\n",
      "    time_bnds  float64 5.839e+03\n",
      "    PRECC      float64 1.676e-08\n",
      "case(region='Eur', year='2000')\n",
      "<xarray.Dataset>\n",
      "Dimensions:    ()\n",
      "Data variables:\n",
      "    time_bnds  float64 5.839e+03\n",
      "    PRECC      float64 1.673e-08\n",
      "case(region='NAm', year='1970')\n",
      "<xarray.Dataset>\n",
      "Dimensions:    ()\n",
      "Data variables:\n",
      "    time_bnds  float64 5.839e+03\n",
      "    PRECC      float64 1.68e-08\n",
      "case(region='NAm', year='2000')\n",
      "<xarray.Dataset>\n",
      "Dimensions:    ()\n",
      "Data variables:\n",
      "    time_bnds  float64 5.839e+03\n",
      "    PRECC      float64 1.673e-08\n",
      "case(region='SEAs', year='1970')\n",
      "<xarray.Dataset>\n",
      "Dimensions:    ()\n",
      "Data variables:\n",
      "    time_bnds  float64 5.839e+03\n",
      "    PRECC      float64 1.677e-08\n",
      "case(region='SEAs', year='2000')\n",
      "<xarray.Dataset>\n",
      "Dimensions:    ()\n",
      "Data variables:\n",
      "    time_bnds  float64 5.839e+03\n",
      "    PRECC      float64 1.675e-08\n"
     ]
    }
   ],
   "source": [
    "for key, data in data_dict2.items():\n",
    "    print(key)\n",
    "    print(data.mean())"
   ]
  }
 ],
 "metadata": {
  "kernelspec": {
   "display_name": "Py 3.6 (test36)",
   "language": "python",
   "name": "py36test36"
  },
  "language_info": {
   "codemirror_mode": {
    "name": "ipython",
    "version": 3
   },
   "file_extension": ".py",
   "mimetype": "text/x-python",
   "name": "python",
   "nbconvert_exporter": "python",
   "pygments_lexer": "ipython3",
   "version": "3.6.0"
  }
 },
 "nbformat": 4,
 "nbformat_minor": 2
}
